{
 "cells": [
  {
   "cell_type": "markdown",
   "metadata": {
    "id": "Z8yE5hQ-wzLl"
   },
   "source": [
    "# Python Tutorial"
   ]
  },
  {
   "cell_type": "code",
   "execution_count": null,
   "metadata": {
    "colab": {
     "base_uri": "https://localhost:8080/"
    },
    "id": "kl9vLgeDwupg",
    "outputId": "dc79f0ec-1077-41ce-d3db-ef3f97a50632"
   },
   "outputs": [
    {
     "name": "stdout",
     "output_type": "stream",
     "text": [
      "Hello World\n"
     ]
    }
   ],
   "source": [
    "print(\"Hello World\")"
   ]
  },
  {
   "cell_type": "markdown",
   "metadata": {
    "id": "y4gnWxfcww-S"
   },
   "source": [
    "## Variables"
   ]
  },
  {
   "cell_type": "code",
   "execution_count": null,
   "metadata": {
    "colab": {
     "base_uri": "https://localhost:8080/"
    },
    "id": "PeVdzn5BxU97",
    "outputId": "a718894c-3740-4e31-a2d9-f9f488737f4c"
   },
   "outputs": [
    {
     "name": "stdout",
     "output_type": "stream",
     "text": [
      "10\n"
     ]
    }
   ],
   "source": [
    "price = 10\n",
    "print(price)"
   ]
  },
  {
   "cell_type": "code",
   "execution_count": null,
   "metadata": {
    "colab": {
     "base_uri": "https://localhost:8080/"
    },
    "id": "DiKzPr7wxgHi",
    "outputId": "2b909ac3-77a7-4bb1-f2ac-1eea1604b018"
   },
   "outputs": [
    {
     "name": "stdout",
     "output_type": "stream",
     "text": [
      "20\n"
     ]
    }
   ],
   "source": [
    "price = 10\n",
    "price = 20\n",
    "print(price)"
   ]
  },
  {
   "cell_type": "code",
   "execution_count": null,
   "metadata": {
    "colab": {
     "base_uri": "https://localhost:8080/"
    },
    "id": "XvlBSjJB1LOO",
    "outputId": "d9949ad4-3b7f-4014-9560-218dd5cec97c"
   },
   "outputs": [
    {
     "name": "stdout",
     "output_type": "stream",
     "text": [
      "10\n"
     ]
    }
   ],
   "source": [
    "price = 10\n",
    "rating = 4.9\n",
    "name = 'Benny'\n",
    "is_published = False\n",
    "print(price)"
   ]
  },
  {
   "cell_type": "code",
   "execution_count": null,
   "metadata": {
    "id": "98R9jEh01nt3"
   },
   "outputs": [],
   "source": [
    "name = 'John Smith'\n",
    "age = 20\n",
    "is_new = True"
   ]
  },
  {
   "cell_type": "markdown",
   "metadata": {
    "id": "RE630Xwl2uWg"
   },
   "source": [
    "## Input"
   ]
  },
  {
   "cell_type": "code",
   "execution_count": null,
   "metadata": {
    "colab": {
     "base_uri": "https://localhost:8080/"
    },
    "id": "jajnlFVj2NK8",
    "outputId": "47510bfd-6f93-4b3f-b966-7f5a113e4764"
   },
   "outputs": [
    {
     "name": "stdout",
     "output_type": "stream",
     "text": [
      "What is your name? Benny\n",
      "\n",
      "Hi, Benny\n"
     ]
    }
   ],
   "source": [
    "name = input(\"What is your name? \")\n",
    "print()\n",
    "print(\"Hi, \" + name)"
   ]
  },
  {
   "cell_type": "code",
   "execution_count": null,
   "metadata": {
    "id": "od7Kr8Ue2f4Q"
   },
   "outputs": [],
   "source": [
    "name = input(\"What is your name? \")\n",
    "colour = input(\"What is your favourite colour? \")\n",
    "print()\n",
    "print(name + \" likes \" + colour)"
   ]
  },
  {
   "cell_type": "markdown",
   "metadata": {
    "id": "U7ev9j6Y3pLG"
   },
   "source": [
    "##Type Conversion"
   ]
  },
  {
   "cell_type": "code",
   "execution_count": null,
   "metadata": {
    "id": "_sYUwq3Y3X-Y"
   },
   "outputs": [],
   "source": [
    "birth_year = input('Birth Year: ')\n",
    "age = 2021 - int(birth_year)\n",
    "print(\"Age : \" + str(age))"
   ]
  },
  {
   "cell_type": "code",
   "execution_count": null,
   "metadata": {
    "id": "2FfM5nQV4T9W"
   },
   "outputs": [],
   "source": [
    "weightlbs = input(\"Enter Your Weight in Pounds : \")\n",
    "weightkg = float(weightlbs)/2.20462\n",
    "print(\"Weight in Kgs : \" + str(weightkg))"
   ]
  },
  {
   "cell_type": "markdown",
   "metadata": {
    "id": "W-jZwapr5XUJ"
   },
   "source": [
    "## Strings"
   ]
  },
  {
   "cell_type": "code",
   "execution_count": null,
   "metadata": {
    "id": "Gioq-5TM5Y_E"
   },
   "outputs": [],
   "source": [
    "course = \"Python's Course for beginners\"\n",
    "print(course)"
   ]
  },
  {
   "cell_type": "code",
   "execution_count": null,
   "metadata": {
    "id": "f6pTD6M15pO7"
   },
   "outputs": [],
   "source": [
    "course = 'Python Course for \"beginners'\n",
    "print(course)"
   ]
  },
  {
   "cell_type": "code",
   "execution_count": null,
   "metadata": {
    "id": "6VGOSeYb5_bD"
   },
   "outputs": [],
   "source": [
    "course = '''\n",
    "Hi Benny,\n",
    "\n",
    "Hese is a test email.\n",
    "\n",
    "Thanks and Regards,\n",
    "Executive Team\n",
    "\n",
    "'''\n",
    "print(course)"
   ]
  },
  {
   "cell_type": "code",
   "execution_count": null,
   "metadata": {
    "id": "BQZanG6o6OTr"
   },
   "outputs": [],
   "source": [
    "course = 'python for begineers'\n",
    "print(course[-1])"
   ]
  },
  {
   "cell_type": "code",
   "execution_count": null,
   "metadata": {
    "id": "gYRUiPo26S2u"
   },
   "outputs": [],
   "source": [
    "course = 'python for begineers'\n",
    "print(course[0:3])"
   ]
  },
  {
   "cell_type": "code",
   "execution_count": null,
   "metadata": {
    "id": "hs2PH5KvElY_"
   },
   "outputs": [],
   "source": [
    "course = 'python for begineers'\n",
    "print(course[1:])"
   ]
  },
  {
   "cell_type": "code",
   "execution_count": null,
   "metadata": {
    "id": "Nn9FZ0yANs-f"
   },
   "outputs": [],
   "source": [
    "course = 'python for begineers'\n",
    "print(course[:8])"
   ]
  },
  {
   "cell_type": "code",
   "execution_count": null,
   "metadata": {
    "id": "BVwts62DNyKw"
   },
   "outputs": [],
   "source": [
    "course = 'python for begineers'\n",
    "another = course[:]\n",
    "print(another)"
   ]
  },
  {
   "cell_type": "code",
   "execution_count": null,
   "metadata": {
    "id": "BY0HR2YKOkOC"
   },
   "outputs": [],
   "source": [
    "name = 'Jennifer'\n",
    "print(name[1:-1])"
   ]
  },
  {
   "cell_type": "markdown",
   "metadata": {
    "id": "0IhC9_lXO5tz"
   },
   "source": [
    "## Formated Strings"
   ]
  },
  {
   "cell_type": "code",
   "execution_count": null,
   "metadata": {
    "id": "mkgmuj1xOuRM"
   },
   "outputs": [],
   "source": [
    "first = 'John'\n",
    "last = 'smith'\n",
    "message = first + ' [' + last + '] is a coder'\n",
    "print(message)"
   ]
  },
  {
   "cell_type": "code",
   "execution_count": null,
   "metadata": {
    "id": "Yg37Cx6CPJPr"
   },
   "outputs": [],
   "source": [
    "first = 'John'\n",
    "last = 'smith'\n",
    "msg = f'{first} [{last}] is a coder'\n",
    "print(msg)"
   ]
  },
  {
   "cell_type": "markdown",
   "metadata": {
    "id": "bcYkj3GLP03o"
   },
   "source": [
    "## String Methods"
   ]
  },
  {
   "cell_type": "code",
   "execution_count": null,
   "metadata": {
    "id": "Hf1E4M2MPbXH"
   },
   "outputs": [],
   "source": [
    "course= 'Python for Beginners'\n",
    "print(len(course))"
   ]
  },
  {
   "cell_type": "code",
   "execution_count": null,
   "metadata": {
    "id": "jG0h1JV6P95o"
   },
   "outputs": [],
   "source": [
    "course= 'Python for Beginners'\n",
    "print(course.upper())"
   ]
  },
  {
   "cell_type": "code",
   "execution_count": null,
   "metadata": {
    "id": "1HxoCVf9QqUs"
   },
   "outputs": [],
   "source": [
    "course= 'Python for Beginners'\n",
    "print(course.lower())"
   ]
  },
  {
   "cell_type": "code",
   "execution_count": null,
   "metadata": {
    "id": "vcGfcIt-QwQh"
   },
   "outputs": [],
   "source": [
    "course= 'Python for Beginners'\n",
    "print(course.find('o'))"
   ]
  },
  {
   "cell_type": "code",
   "execution_count": null,
   "metadata": {
    "id": "sI8meu2WQ4ck"
   },
   "outputs": [],
   "source": [
    "course= 'Python for Beginners'\n",
    "print(course.replace('Beginners', 'Absolute Beginners'))"
   ]
  },
  {
   "cell_type": "code",
   "execution_count": null,
   "metadata": {
    "id": "4c9SwdapRJCv"
   },
   "outputs": [],
   "source": [
    "course= 'Python for Beginners'\n",
    "print('Python' in course)"
   ]
  },
  {
   "cell_type": "markdown",
   "metadata": {
    "id": "NPHlQ9_XRjSk"
   },
   "source": [
    "## Arithmetic Operations"
   ]
  },
  {
   "cell_type": "code",
   "execution_count": null,
   "metadata": {
    "colab": {
     "base_uri": "https://localhost:8080/"
    },
    "id": "ULLJBp0xRUXd",
    "outputId": "230085a1-2c77-4656-fd0e-7fc623146256"
   },
   "outputs": [
    {
     "name": "stdout",
     "output_type": "stream",
     "text": [
      "13\n",
      "7\n",
      "3.3333333333333335\n",
      "3\n",
      "1\n",
      "1000\n"
     ]
    }
   ],
   "source": [
    "print(10 + 3)\n",
    "print(10 - 3)\n",
    "print(10 / 3)\n",
    "print(10 // 3)\n",
    "print(10 % 3)\n",
    "print(10 ** 3)"
   ]
  },
  {
   "cell_type": "code",
   "execution_count": null,
   "metadata": {
    "colab": {
     "base_uri": "https://localhost:8080/"
    },
    "id": "Pkkt3dakR1rE",
    "outputId": "9f4762ac-be34-4c09-9a4f-a8b4c6d5da1d"
   },
   "outputs": [
    {
     "name": "stdout",
     "output_type": "stream",
     "text": [
      "13\n"
     ]
    }
   ],
   "source": [
    "x = 10\n",
    "x += 3\n",
    "print(x)"
   ]
  },
  {
   "cell_type": "markdown",
   "metadata": {
    "id": "lXfgZNYWSSgB"
   },
   "source": [
    "##Operator Procedure"
   ]
  },
  {
   "cell_type": "code",
   "execution_count": null,
   "metadata": {
    "colab": {
     "base_uri": "https://localhost:8080/"
    },
    "id": "LOdudwXDSILD",
    "outputId": "bd07a300-5031-45eb-84ca-339e838d6d22"
   },
   "outputs": [
    {
     "name": "stdout",
     "output_type": "stream",
     "text": [
      "22\n"
     ]
    }
   ],
   "source": [
    "x = 10 + 3 * 2 ** 2\n",
    "print(x)"
   ]
  },
  {
   "cell_type": "markdown",
   "metadata": {
    "id": "UGirwhacS5Qn"
   },
   "source": [
    "## Main Functions"
   ]
  },
  {
   "cell_type": "code",
   "execution_count": null,
   "metadata": {
    "colab": {
     "base_uri": "https://localhost:8080/"
    },
    "id": "hPE5NbA8SW7c",
    "outputId": "165bcaee-4b6b-4fa3-d225-5399522eb877"
   },
   "outputs": [
    {
     "name": "stdout",
     "output_type": "stream",
     "text": [
      "3\n"
     ]
    }
   ],
   "source": [
    "x = 2.9\n",
    "print(round(x))"
   ]
  },
  {
   "cell_type": "code",
   "execution_count": null,
   "metadata": {
    "colab": {
     "base_uri": "https://localhost:8080/"
    },
    "id": "30WmToZUS-TQ",
    "outputId": "f1a97e95-b2ad-4376-90a8-a67c411291ea"
   },
   "outputs": [
    {
     "name": "stdout",
     "output_type": "stream",
     "text": [
      "2.9\n"
     ]
    }
   ],
   "source": [
    "x = 2.9\n",
    "print(abs(x))"
   ]
  },
  {
   "cell_type": "code",
   "execution_count": null,
   "metadata": {
    "colab": {
     "base_uri": "https://localhost:8080/"
    },
    "id": "-wOp_0NcTDDw",
    "outputId": "6a3aa2eb-8e2b-435f-acf2-bd6eb7748579"
   },
   "outputs": [
    {
     "name": "stdout",
     "output_type": "stream",
     "text": [
      "3\n"
     ]
    }
   ],
   "source": [
    "import math\n",
    "print(math.ceil(2.9))"
   ]
  },
  {
   "cell_type": "code",
   "execution_count": null,
   "metadata": {
    "colab": {
     "base_uri": "https://localhost:8080/"
    },
    "id": "v-d5XlBVTQ-M",
    "outputId": "16e1b30c-c09d-4d9e-bb0e-511de47ddc48"
   },
   "outputs": [
    {
     "name": "stdout",
     "output_type": "stream",
     "text": [
      "2\n"
     ]
    }
   ],
   "source": [
    "import math\n",
    "print(math.floor(2.9))"
   ]
  },
  {
   "cell_type": "markdown",
   "metadata": {
    "id": "tQAHXq1GTkNX"
   },
   "source": [
    "Math Functions List https://docs.python.org/3/library/math.html"
   ]
  },
  {
   "cell_type": "markdown",
   "metadata": {
    "id": "A1S1DMbOTodW"
   },
   "source": [
    "## If Statments"
   ]
  },
  {
   "cell_type": "code",
   "execution_count": null,
   "metadata": {
    "colab": {
     "base_uri": "https://localhost:8080/"
    },
    "id": "NfH70a-2T0VF",
    "outputId": "4d942947-7abb-4481-fe17-55d2635b651f"
   },
   "outputs": [
    {
     "name": "stdout",
     "output_type": "stream",
     "text": [
      "It's a hot day\n",
      "Enjoy Your Day\n"
     ]
    }
   ],
   "source": [
    "is_hot = True\n",
    "if is_hot:\n",
    "  print(\"It's a hot day\")\n",
    "print(\"Enjoy Your Day\")"
   ]
  },
  {
   "cell_type": "code",
   "execution_count": null,
   "metadata": {
    "colab": {
     "base_uri": "https://localhost:8080/"
    },
    "id": "Z12jinUwT7LK",
    "outputId": "35207040-e2db-47ae-ef9a-d1b870c5daeb"
   },
   "outputs": [
    {
     "name": "stdout",
     "output_type": "stream",
     "text": [
      "Enjoy Your Day\n"
     ]
    }
   ],
   "source": [
    "is_hot = False\n",
    "if is_hot:\n",
    "  print(\"It's a hot day\")\n",
    "print(\"Enjoy Your Day\")"
   ]
  },
  {
   "cell_type": "code",
   "execution_count": null,
   "metadata": {
    "colab": {
     "base_uri": "https://localhost:8080/"
    },
    "id": "bbMZTsyFUCM5",
    "outputId": "2f6040a2-dfdd-453c-c760-4b431cb2204a"
   },
   "outputs": [
    {
     "name": "stdout",
     "output_type": "stream",
     "text": [
      "It's a hot day\n",
      "Drink plenty of water\n",
      "Enjoy Your Day\n"
     ]
    }
   ],
   "source": [
    "is_hot = True\n",
    "if is_hot:\n",
    "  print(\"It's a hot day\")\n",
    "  print(\"Drink plenty of water\")\n",
    "print(\"Enjoy Your Day\")"
   ]
  },
  {
   "cell_type": "code",
   "execution_count": null,
   "metadata": {
    "colab": {
     "base_uri": "https://localhost:8080/"
    },
    "id": "pSo7iJ12UGmt",
    "outputId": "9447e705-1140-44a6-ed04-576f43b7ded7"
   },
   "outputs": [
    {
     "name": "stdout",
     "output_type": "stream",
     "text": [
      "It's a hot day\n",
      "Drink plenty of water\n",
      "Enjoy Your Day\n"
     ]
    }
   ],
   "source": [
    "is_hot = True\n",
    "if is_hot:\n",
    "  print(\"It's a hot day\")\n",
    "  print(\"Drink plenty of water\")\n",
    "else:\n",
    "  print(\"It's a cold day\")\n",
    "  print(\"Wear warm clothes\")\n",
    "print(\"Enjoy Your Day\")"
   ]
  },
  {
   "cell_type": "code",
   "execution_count": null,
   "metadata": {
    "colab": {
     "base_uri": "https://localhost:8080/"
    },
    "id": "48w2ixtAUNLX",
    "outputId": "67e2ad20-fd2d-4e5d-d3a8-2dff98fd3426"
   },
   "outputs": [
    {
     "name": "stdout",
     "output_type": "stream",
     "text": [
      "It's a cold day\n",
      "Wear warm clothes\n",
      "Enjoy Your Day\n"
     ]
    }
   ],
   "source": [
    "is_hot = False\n",
    "is_cold= True\n",
    "if is_hot:\n",
    "  print(\"It's a hot day\")\n",
    "  print(\"Drink plenty of water\")\n",
    "elif is_cold:\n",
    "  print(\"It's a cold day\")\n",
    "  print(\"Wear warm clothes\")\n",
    "else:\n",
    "  print(\"It's a lovely day\")\n",
    "print(\"Enjoy Your Day\")"
   ]
  },
  {
   "cell_type": "markdown",
   "metadata": {
    "id": "EWtLW1jOUuqM"
   },
   "source": [
    "## Logical Operators"
   ]
  },
  {
   "cell_type": "code",
   "execution_count": null,
   "metadata": {
    "colab": {
     "base_uri": "https://localhost:8080/"
    },
    "id": "PD5eh75PUeqP",
    "outputId": "cb7353eb-2672-443a-9121-0f0e59a9d237"
   },
   "outputs": [
    {
     "name": "stdout",
     "output_type": "stream",
     "text": [
      "Eligible for loan\n"
     ]
    }
   ],
   "source": [
    "has_high_income = True\n",
    "has_good_credit = True\n",
    "if has_high_income and has_good_credit:\n",
    "  print(\"Eligible for loan\")"
   ]
  },
  {
   "cell_type": "code",
   "execution_count": null,
   "metadata": {
    "colab": {
     "base_uri": "https://localhost:8080/"
    },
    "id": "5TxCg718U-wZ",
    "outputId": "558f609f-1d48-438d-d4b8-505127fe87c9"
   },
   "outputs": [
    {
     "name": "stdout",
     "output_type": "stream",
     "text": [
      "Eligible for loan\n"
     ]
    }
   ],
   "source": [
    "has_high_income = True\n",
    "has_good_credit = False\n",
    "if has_high_income or has_good_credit:\n",
    "  print(\"Eligible for loan\")"
   ]
  },
  {
   "cell_type": "code",
   "execution_count": null,
   "metadata": {
    "id": "2MFZLiURVLYo"
   },
   "outputs": [],
   "source": [
    "has_high_income = False\n",
    "has_good_credit = False\n",
    "if has_high_income or has_good_credit:\n",
    "  print(\"Eligible for loan\")"
   ]
  },
  {
   "cell_type": "code",
   "execution_count": null,
   "metadata": {
    "colab": {
     "base_uri": "https://localhost:8080/"
    },
    "id": "eX3pZgUfVMl6",
    "outputId": "4ae0350d-10d0-4d1f-d91a-89becf773d2c"
   },
   "outputs": [
    {
     "name": "stdout",
     "output_type": "stream",
     "text": [
      "Eligible for loan\n"
     ]
    }
   ],
   "source": [
    "has_good_credit = True\n",
    "has_criminal_record = False\n",
    "if has_good_credit and not has_criminal_record:\n",
    "  print(\"Eligible for loan\")"
   ]
  },
  {
   "cell_type": "code",
   "execution_count": null,
   "metadata": {
    "id": "QfNO7DSwVUl-"
   },
   "outputs": [],
   "source": [
    "has_good_credit = True\n",
    "has_criminal_record = True\n",
    "if has_good_credit and not has_criminal_record:\n",
    "  print(\"Eligible for loan\")"
   ]
  },
  {
   "cell_type": "markdown",
   "metadata": {
    "id": "ZXNho1HtVzUh"
   },
   "source": [
    "## Comparison Operators"
   ]
  },
  {
   "cell_type": "code",
   "execution_count": null,
   "metadata": {
    "colab": {
     "base_uri": "https://localhost:8080/"
    },
    "id": "BVoU7lzmVpx8",
    "outputId": "5db74a05-e77b-46e3-c07f-4cd50819ad9a"
   },
   "outputs": [
    {
     "name": "stdout",
     "output_type": "stream",
     "text": [
      "It's not a hot day\n"
     ]
    }
   ],
   "source": [
    "temperature = 30\n",
    "if temperature > 30:\n",
    "  print(\"It's a hot day\")\n",
    "else:\n",
    "  print(\"It's not a hot day\")"
   ]
  },
  {
   "cell_type": "code",
   "execution_count": null,
   "metadata": {
    "colab": {
     "base_uri": "https://localhost:8080/"
    },
    "id": "bdf7Zw3gWEw0",
    "outputId": "c7ad093f-67aa-4dbc-96aa-02b503a20f05"
   },
   "outputs": [
    {
     "name": "stdout",
     "output_type": "stream",
     "text": [
      "It's a hot day\n"
     ]
    }
   ],
   "source": [
    "temperature = 30\n",
    "if temperature == 30:\n",
    "  print(\"It's a hot day\")\n",
    "else:\n",
    "  print(\"It's not a hot day\")"
   ]
  },
  {
   "cell_type": "code",
   "execution_count": null,
   "metadata": {
    "colab": {
     "base_uri": "https://localhost:8080/"
    },
    "id": "qoYwrrH-WGzg",
    "outputId": "f23eabcb-8239-4095-917b-b05636ea814a"
   },
   "outputs": [
    {
     "name": "stdout",
     "output_type": "stream",
     "text": [
      "It's not a hot day\n"
     ]
    }
   ],
   "source": [
    "temperature = 30\n",
    "if temperature != 30:\n",
    "  print(\"It's a hot day\")\n",
    "else:\n",
    "  print(\"It's not a hot day\")"
   ]
  },
  {
   "cell_type": "code",
   "execution_count": null,
   "metadata": {
    "colab": {
     "base_uri": "https://localhost:8080/"
    },
    "id": "aIRwaAOSWMwW",
    "outputId": "48a10e92-5f84-412d-9158-6ca3983bf01b"
   },
   "outputs": [
    {
     "name": "stdout",
     "output_type": "stream",
     "text": [
      "Enter Your Name : benuoidfalsidfhoauhjwvauofivnkawlulivjnodifulvbhaoliunrgoia8jifvnoaurlhngjboaufvnoialuehtg\n",
      "Name must be less than 50 characters\n"
     ]
    }
   ],
   "source": [
    "name = input(\"Enter Your Name : \")\n",
    "if len(name) < 3:\n",
    "  print(\"Name must be at least 3 characters\")\n",
    "elif len(name) > 50:\n",
    "  print(\"Name must be less than 50 characters\")\n",
    "else:\n",
    "  print(\"Name looks good!\")"
   ]
  },
  {
   "cell_type": "markdown",
   "metadata": {
    "id": "6XCGvO1_W7HK"
   },
   "source": [
    "## While Loops"
   ]
  },
  {
   "cell_type": "code",
   "execution_count": null,
   "metadata": {
    "colab": {
     "base_uri": "https://localhost:8080/"
    },
    "id": "o64yQMd2WXMn",
    "outputId": "64249ac3-69b8-4ccf-cce2-6ec57870a114"
   },
   "outputs": [
    {
     "name": "stdout",
     "output_type": "stream",
     "text": [
      "1\n",
      "2\n",
      "3\n",
      "4\n",
      "5\n",
      "Done\n"
     ]
    }
   ],
   "source": [
    "i = 1\n",
    "while i <= 5:\n",
    "  print(i)\n",
    "  i += 1\n",
    "print(\"Done\")"
   ]
  },
  {
   "cell_type": "code",
   "execution_count": null,
   "metadata": {
    "colab": {
     "base_uri": "https://localhost:8080/"
    },
    "id": "3I66ByIcXIyI",
    "outputId": "cdd4ac0b-c148-41e1-f5d5-e250f3ff996d"
   },
   "outputs": [
    {
     "name": "stdout",
     "output_type": "stream",
     "text": [
      "*\n",
      "**\n",
      "***\n",
      "****\n",
      "*****\n",
      "Done\n"
     ]
    }
   ],
   "source": [
    "i = 1\n",
    "while i <= 5:\n",
    "  print('*' * i)\n",
    "  i += 1\n",
    "print(\"Done\")"
   ]
  },
  {
   "cell_type": "markdown",
   "metadata": {
    "id": "SzCtQB5vXu2P"
   },
   "source": [
    "## For Loops"
   ]
  },
  {
   "cell_type": "code",
   "execution_count": null,
   "metadata": {
    "colab": {
     "base_uri": "https://localhost:8080/"
    },
    "id": "ZE2jN3WkXRcd",
    "outputId": "65bada2c-4fe3-4646-d11b-cc16428b566b"
   },
   "outputs": [
    {
     "name": "stdout",
     "output_type": "stream",
     "text": [
      "P\n",
      "y\n",
      "t\n",
      "h\n",
      "o\n",
      "n\n"
     ]
    }
   ],
   "source": [
    "for item in 'Python':\n",
    "  print(item)"
   ]
  },
  {
   "cell_type": "code",
   "execution_count": null,
   "metadata": {
    "colab": {
     "base_uri": "https://localhost:8080/"
    },
    "id": "cnQUuOwcX50H",
    "outputId": "f400d96b-4d8e-42dc-b475-043fe114949a"
   },
   "outputs": [
    {
     "name": "stdout",
     "output_type": "stream",
     "text": [
      "5\n",
      "6\n",
      "7\n",
      "8\n",
      "9\n"
     ]
    }
   ],
   "source": [
    "for item in range(5, 10):\n",
    "  print(item)"
   ]
  },
  {
   "cell_type": "code",
   "execution_count": null,
   "metadata": {
    "colab": {
     "base_uri": "https://localhost:8080/"
    },
    "id": "N64V_wIZYHU6",
    "outputId": "d27ce39d-f160-4cda-8ff0-8882987f7eb5"
   },
   "outputs": [
    {
     "name": "stdout",
     "output_type": "stream",
     "text": [
      "5\n",
      "7\n",
      "9\n"
     ]
    }
   ],
   "source": [
    "for item in range(5, 10, 2):\n",
    "  print(item)"
   ]
  },
  {
   "cell_type": "markdown",
   "metadata": {
    "id": "lqODXEYcYaVO"
   },
   "source": [
    "## Lists"
   ]
  },
  {
   "cell_type": "code",
   "execution_count": null,
   "metadata": {
    "colab": {
     "base_uri": "https://localhost:8080/"
    },
    "id": "Bu-VrMCsYRgE",
    "outputId": "1f4ad789-f93e-4606-eb1e-222cd9c319e3"
   },
   "outputs": [
    {
     "name": "stdout",
     "output_type": "stream",
     "text": [
      "[4, 5, 6, 7, 8, 9]\n",
      "[1, 2, 3, 4, 5, 6, 7, 8, 9, 10]\n"
     ]
    }
   ],
   "source": [
    "num = [1, 2, 3, 4, 5, 6, 7, 8, 9, 10]\n",
    "print(num[3:9])\n",
    "print(num)"
   ]
  },
  {
   "cell_type": "code",
   "execution_count": null,
   "metadata": {
    "colab": {
     "base_uri": "https://localhost:8080/"
    },
    "id": "lJgEK2dDZLuO",
    "outputId": "2bb9bfe6-1b9c-42ce-e0b7-a49a26f01fdd"
   },
   "outputs": [
    {
     "name": "stdout",
     "output_type": "stream",
     "text": [
      "[1, 2, 3]\n",
      "[4, 5, 6]\n",
      "[7, 8, 9]\n"
     ]
    }
   ],
   "source": [
    "matrix = [[1, 2, 3], [4, 5, 6], [7, 8, 9]]\n",
    "print(matrix[0])\n",
    "print(matrix[1])\n",
    "print(matrix[2])"
   ]
  },
  {
   "cell_type": "code",
   "execution_count": null,
   "metadata": {
    "colab": {
     "base_uri": "https://localhost:8080/"
    },
    "id": "4EuW-ytbZz2K",
    "outputId": "6e55a162-5973-4ef0-f016-3c58cf1a19ef"
   },
   "outputs": [
    {
     "name": "stdout",
     "output_type": "stream",
     "text": [
      "1\n",
      "2\n",
      "3\n",
      "4\n",
      "5\n",
      "6\n",
      "7\n",
      "8\n",
      "9\n"
     ]
    }
   ],
   "source": [
    "matrix = [[1, 2, 3], [4, 5, 6], [7, 8, 9]]\n",
    "for row in matrix:\n",
    "  for item in row:\n",
    "    print(item)"
   ]
  },
  {
   "cell_type": "markdown",
   "metadata": {
    "id": "AMPEABWpaOmv"
   },
   "source": [
    "## List Methods"
   ]
  },
  {
   "cell_type": "code",
   "execution_count": null,
   "metadata": {
    "colab": {
     "base_uri": "https://localhost:8080/"
    },
    "id": "XwEcPjS_aCRS",
    "outputId": "2d0028a1-5019-4bc1-a906-19b1305902fb"
   },
   "outputs": [
    {
     "name": "stdout",
     "output_type": "stream",
     "text": [
      "[1, 4, 3, 6, 3, 7, 5, 8, 0, 6, 20]\n"
     ]
    }
   ],
   "source": [
    "numbers = [1, 4, 3, 6, 3, 7, 5, 8, 0, 6]\n",
    "numbers.append(20)\n",
    "print(numbers)"
   ]
  },
  {
   "cell_type": "code",
   "execution_count": null,
   "metadata": {
    "colab": {
     "base_uri": "https://localhost:8080/"
    },
    "id": "cCUAloRLaaeM",
    "outputId": "50749103-6d39-45f1-cbb7-9a36c5d83087"
   },
   "outputs": [
    {
     "name": "stdout",
     "output_type": "stream",
     "text": [
      "[10, 1, 4, 3, 6, 3, 7, 5, 8, 0, 6]\n"
     ]
    }
   ],
   "source": [
    "numbers = [1, 4, 3, 6, 3, 7, 5, 8, 0, 6]\n",
    "numbers.insert(0, 10)\n",
    "print(numbers)"
   ]
  },
  {
   "cell_type": "code",
   "execution_count": null,
   "metadata": {
    "colab": {
     "base_uri": "https://localhost:8080/"
    },
    "id": "kjPKiBQ9ajUp",
    "outputId": "c78a78da-0c73-409e-a276-f189f5a711c1"
   },
   "outputs": [
    {
     "name": "stdout",
     "output_type": "stream",
     "text": [
      "[1, 4, 3, 6, 3, 7, 8, 0, 6]\n"
     ]
    }
   ],
   "source": [
    "numbers = [1, 4, 3, 6, 3, 7, 5, 8, 0, 6]\n",
    "numbers.remove(5)\n",
    "print(numbers)"
   ]
  },
  {
   "cell_type": "code",
   "execution_count": null,
   "metadata": {
    "colab": {
     "base_uri": "https://localhost:8080/"
    },
    "id": "CQCi5BFialWy",
    "outputId": "5610964b-28b6-45f0-f94d-c3e41e5fc031"
   },
   "outputs": [
    {
     "name": "stdout",
     "output_type": "stream",
     "text": [
      "[]\n"
     ]
    }
   ],
   "source": [
    "numbers = [1, 4, 3, 6, 3, 7, 5, 8, 0, 6]\n",
    "numbers.clear()\n",
    "print(numbers)"
   ]
  },
  {
   "cell_type": "code",
   "execution_count": null,
   "metadata": {
    "colab": {
     "base_uri": "https://localhost:8080/"
    },
    "id": "vlJDzqW7anYz",
    "outputId": "6160be10-cde1-4fc9-dc6e-809e0b5742fa"
   },
   "outputs": [
    {
     "name": "stdout",
     "output_type": "stream",
     "text": [
      "[1, 4, 3, 6, 3, 7, 5, 8, 0]\n"
     ]
    }
   ],
   "source": [
    "numbers = [1, 4, 3, 6, 3, 7, 5, 8, 0, 6]\n",
    "numbers.pop()\n",
    "print(numbers)"
   ]
  },
  {
   "cell_type": "code",
   "execution_count": null,
   "metadata": {
    "colab": {
     "base_uri": "https://localhost:8080/"
    },
    "id": "gKFLVrnuaqSl",
    "outputId": "06e22cb2-f9ed-4bbc-e93d-0c91f74b5bd4"
   },
   "outputs": [
    {
     "name": "stdout",
     "output_type": "stream",
     "text": [
      "6\n"
     ]
    }
   ],
   "source": [
    "numbers = [1, 4, 3, 6, 3, 7, 5, 8, 0, 6]\n",
    "print(numbers.index(5))"
   ]
  },
  {
   "cell_type": "code",
   "execution_count": null,
   "metadata": {
    "colab": {
     "base_uri": "https://localhost:8080/"
    },
    "id": "M5A411n-awcV",
    "outputId": "a8bd4963-e1c3-4f96-a558-9c9a745f8597"
   },
   "outputs": [
    {
     "name": "stdout",
     "output_type": "stream",
     "text": [
      "True\n"
     ]
    }
   ],
   "source": [
    "numbers = [1, 4, 3, 6, 3, 7, 5, 8, 0, 6]\n",
    "print(5 in numbers)"
   ]
  },
  {
   "cell_type": "code",
   "execution_count": null,
   "metadata": {
    "colab": {
     "base_uri": "https://localhost:8080/"
    },
    "id": "D0ST2148a0pi",
    "outputId": "97d38607-67f6-4cd6-acf7-61aad34e0bb7"
   },
   "outputs": [
    {
     "name": "stdout",
     "output_type": "stream",
     "text": [
      "1\n"
     ]
    }
   ],
   "source": [
    "numbers = [1, 4, 3, 6, 3, 7, 5, 8, 0, 6]\n",
    "print(numbers.count(5))"
   ]
  },
  {
   "cell_type": "code",
   "execution_count": null,
   "metadata": {
    "colab": {
     "base_uri": "https://localhost:8080/"
    },
    "id": "1hnIqtbva7BX",
    "outputId": "7e224f8b-c3bb-4bf3-b717-b45dadf947be"
   },
   "outputs": [
    {
     "name": "stdout",
     "output_type": "stream",
     "text": [
      "[0, 1, 3, 3, 4, 5, 6, 6, 7, 8]\n"
     ]
    }
   ],
   "source": [
    "numbers = [1, 4, 3, 6, 3, 7, 5, 8, 0, 6]\n",
    "numbers.sort()\n",
    "print(numbers)"
   ]
  },
  {
   "cell_type": "code",
   "execution_count": null,
   "metadata": {
    "colab": {
     "base_uri": "https://localhost:8080/"
    },
    "id": "BUKSNPHOa8oJ",
    "outputId": "a97bf195-b145-433e-eeb6-89b5aa145c3d"
   },
   "outputs": [
    {
     "name": "stdout",
     "output_type": "stream",
     "text": [
      "[8, 7, 6, 6, 5, 4, 3, 3, 1, 0]\n"
     ]
    }
   ],
   "source": [
    "numbers = [1, 4, 3, 6, 3, 7, 5, 8, 0, 6]\n",
    "numbers.sort()\n",
    "numbers.reverse()\n",
    "print(numbers)"
   ]
  },
  {
   "cell_type": "code",
   "execution_count": null,
   "metadata": {
    "colab": {
     "base_uri": "https://localhost:8080/"
    },
    "id": "A5DbIbFbbHsl",
    "outputId": "fedf2d3e-ea73-427d-baa6-288e7c2e7e3b"
   },
   "outputs": [
    {
     "name": "stdout",
     "output_type": "stream",
     "text": [
      "[1, 4, 3, 6, 3, 7, 5, 8, 0, 6, 10]\n",
      "[1, 4, 3, 6, 3, 7, 5, 8, 0, 6]\n"
     ]
    }
   ],
   "source": [
    "numbers = [1, 4, 3, 6, 3, 7, 5, 8, 0, 6]\n",
    "numbers2 = numbers.copy()\n",
    "numbers.append(10)\n",
    "print(numbers)\n",
    "print(numbers2)"
   ]
  },
  {
   "cell_type": "markdown",
   "metadata": {
    "id": "eIK9O8TUbc35"
   },
   "source": [
    "## Tuples"
   ]
  },
  {
   "cell_type": "code",
   "execution_count": null,
   "metadata": {
    "colab": {
     "base_uri": "https://localhost:8080/"
    },
    "id": "Teu0JSJhbKfZ",
    "outputId": "ef3d9413-de1b-4909-fa86-36811d271b5f"
   },
   "outputs": [
    {
     "name": "stdout",
     "output_type": "stream",
     "text": [
      "1\n"
     ]
    }
   ],
   "source": [
    "numbers = (1, 2, 3)\n",
    "print(numbers[0])"
   ]
  },
  {
   "cell_type": "markdown",
   "metadata": {
    "id": "1EhDfNkCbvRv"
   },
   "source": [
    "## Unpacking"
   ]
  },
  {
   "cell_type": "code",
   "execution_count": null,
   "metadata": {
    "id": "vTugL9KbbsP-"
   },
   "outputs": [],
   "source": [
    "coordinates = (1, 2, 3)\n",
    "x, y, z = coordinates"
   ]
  },
  {
   "cell_type": "code",
   "execution_count": null,
   "metadata": {
    "id": "KhmiM8NtbyNi"
   },
   "outputs": [],
   "source": [
    "coordinates = [1, 2, 3]\n",
    "x, y, z = coordinates"
   ]
  },
  {
   "cell_type": "markdown",
   "metadata": {
    "id": "hq5Za4QfcLDf"
   },
   "source": [
    "## Dictionaries"
   ]
  },
  {
   "cell_type": "code",
   "execution_count": null,
   "metadata": {
    "colab": {
     "base_uri": "https://localhost:8080/"
    },
    "id": "b_5fiUsicJmI",
    "outputId": "388ecdcc-64db-4bfa-957c-c5ef784d3bbe"
   },
   "outputs": [
    {
     "name": "stdout",
     "output_type": "stream",
     "text": [
      "Benny Godwin M\n"
     ]
    }
   ],
   "source": [
    "customer = {\n",
    "    \"Name\" : \"Benny Godwin M\",\n",
    "    \"age\" : 18,\n",
    "    \"is_verified\" : True\n",
    "}\n",
    "print(customer[\"Name\"])"
   ]
  },
  {
   "cell_type": "code",
   "execution_count": null,
   "metadata": {
    "colab": {
     "base_uri": "https://localhost:8080/"
    },
    "id": "f0resPIgcjKt",
    "outputId": "d3a9f645-28ba-44c2-f2c6-58c9304883f6"
   },
   "outputs": [
    {
     "name": "stdout",
     "output_type": "stream",
     "text": [
      "None\n"
     ]
    }
   ],
   "source": [
    "customer = {\n",
    "    \"Name\" : \"Benny Godwin M\",\n",
    "    \"age\" : 18,\n",
    "    \"is_verified\" : True\n",
    "}\n",
    "print(customer.get(\"birthdate\"))"
   ]
  },
  {
   "cell_type": "code",
   "execution_count": null,
   "metadata": {
    "colab": {
     "base_uri": "https://localhost:8080/"
    },
    "id": "cgcyvqrXcsmn",
    "outputId": "9640a69f-db7e-4f5c-d327-ca5032dbdf56"
   },
   "outputs": [
    {
     "name": "stdout",
     "output_type": "stream",
     "text": [
      "Jack\n"
     ]
    }
   ],
   "source": [
    "customer = {\n",
    "    \"Name\" : \"Benny Godwin M\",\n",
    "    \"age\" : 18,\n",
    "    \"is_verified\" : True\n",
    "}\n",
    "customer[\"Name\"] = \"Jack\"\n",
    "print(customer.get(\"Name\"))"
   ]
  },
  {
   "cell_type": "markdown",
   "metadata": {
    "id": "XcY6Vfx7dQh7"
   },
   "source": [
    "## Functions"
   ]
  },
  {
   "cell_type": "code",
   "execution_count": null,
   "metadata": {
    "colab": {
     "base_uri": "https://localhost:8080/"
    },
    "id": "9ZE9GkNuc57n",
    "outputId": "bde3f9fb-eb83-42a2-f16e-8359ac996165"
   },
   "outputs": [
    {
     "name": "stdout",
     "output_type": "stream",
     "text": [
      "Enter Your Name: Benny\n",
      "Hi Benny\n"
     ]
    }
   ],
   "source": [
    "def greet(name):\n",
    "  print(\"Hi \" + name)\n",
    "\n",
    "name = input(\"Enter Your Name: \")\n",
    "greet(name)"
   ]
  },
  {
   "cell_type": "code",
   "execution_count": null,
   "metadata": {
    "id": "jw1H-eyedf-6"
   },
   "outputs": [],
   "source": []
  }
 ],
 "metadata": {
  "colab": {
   "collapsed_sections": [],
   "name": "Python Training.ipynb",
   "provenance": []
  },
  "kernelspec": {
   "display_name": "Python 3",
   "language": "python",
   "name": "python3"
  },
  "language_info": {
   "codemirror_mode": {
    "name": "ipython",
    "version": 3
   },
   "file_extension": ".py",
   "mimetype": "text/x-python",
   "name": "python",
   "nbconvert_exporter": "python",
   "pygments_lexer": "ipython3",
   "version": "3.9.1"
  }
 },
 "nbformat": 4,
 "nbformat_minor": 1
}
